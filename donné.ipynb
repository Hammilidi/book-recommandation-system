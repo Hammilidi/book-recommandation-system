{
 "cells": [
  {
   "cell_type": "code",
   "execution_count": 1,
   "id": "691740ac",
   "metadata": {},
   "outputs": [],
   "source": [
    "import pandas as pd\n",
    "import numpy as np"
   ]
  },
  {
   "cell_type": "code",
   "execution_count": 2,
   "id": "a7b44917",
   "metadata": {},
   "outputs": [],
   "source": [
    "df=pd.read_csv(\"tous_les_livres_523.csv\")"
   ]
  },
  {
   "cell_type": "code",
   "execution_count": 3,
   "id": "413a382e",
   "metadata": {},
   "outputs": [
    {
     "name": "stdout",
     "output_type": "stream",
     "text": [
      "                  Titre    Prix            Disponibilité  \\\n",
      "0  A Light in the Attic  £51.77  In stock (22 available)   \n",
      "1    Tipping the Velvet  £53.74  In stock (20 available)   \n",
      "\n",
      "                                         Description   Note  \\\n",
      "0  It's hard to imagine a world without A Light i...  Three   \n",
      "1  \"Erotic and absorbing...Written with starling ...    One   \n",
      "\n",
      "                                               Image  Page  \n",
      "0  https://books.toscrape.com/media/cache/fe/72/f...     1  \n",
      "1  https://books.toscrape.com/media/cache/08/e9/0...     1  \n"
     ]
    }
   ],
   "source": [
    "print(df.head(2))"
   ]
  },
  {
   "cell_type": "code",
   "execution_count": 4,
   "id": "7f5a7eea",
   "metadata": {},
   "outputs": [],
   "source": [
    "df[\"Description\"] = (\n",
    "    df[\"Description\"]\n",
    "    .str.strip()  # Supprimer espaces au début/fin\n",
    "    .str.replace(r\"\\s+\", \" \", regex=True)  # Remplacer espaces multiples par un seul\n",
    "    .str.replace(r\"[^a-zA-ZÀ-ÿ0-9\\s]\", \"\", regex=True)  # Supprimer caractères spéciaux\n",
    ")"
   ]
  },
  {
   "cell_type": "code",
   "execution_count": 5,
   "id": "dffd5152",
   "metadata": {},
   "outputs": [],
   "source": [
    "df[\"Prix\"] = df[\"Prix\"].str.strip().str.replace(\"£\", \"\").astype(float)"
   ]
  },
  {
   "cell_type": "code",
   "execution_count": 6,
   "id": "aa6a10ca",
   "metadata": {},
   "outputs": [],
   "source": [
    "# Extraire uniquement le nombre et le convertir en int\n",
    "df[\"Disponibilité\"] = df[\"Disponibilité\"].str.extract(r\"(\\d+)\").astype(int)"
   ]
  },
  {
   "cell_type": "code",
   "execution_count": 7,
   "id": "d0e38f87",
   "metadata": {},
   "outputs": [],
   "source": [
    "# Extraire la note sous forme numérique (ex: \"Three\" →3).\n",
    "# Dictionnaire de correspondance\n",
    "note_map = {\n",
    "    \"One\": 1,\n",
    "    \"Two\": 2,\n",
    "    \"Three\": 3,\n",
    "    \"Four\": 4,\n",
    "    \"Five\": 5\n",
    "}\n",
    "\n",
    "# Conversion\n",
    "df[\"Note\"] = df[\"Note\"].map(note_map)"
   ]
  },
  {
   "cell_type": "code",
   "execution_count": 8,
   "id": "ac2035ba",
   "metadata": {},
   "outputs": [
    {
     "data": {
      "text/plain": [
       "Titre            0\n",
       "Prix             0\n",
       "Disponibilité    0\n",
       "Description      0\n",
       "Note             0\n",
       "Image            0\n",
       "Page             0\n",
       "dtype: int64"
      ]
     },
     "execution_count": 8,
     "metadata": {},
     "output_type": "execute_result"
    }
   ],
   "source": [
    "df.isnull().sum()"
   ]
  },
  {
   "cell_type": "code",
   "execution_count": 9,
   "id": "5eb72769",
   "metadata": {},
   "outputs": [],
   "source": [
    "df[\"Description\"] = df.apply(\n",
    "    lambda row: row[\"Titre\"] if len(str(row[\"Description\"]).strip()) < 10 else row[\"Description\"],\n",
    "    axis=1\n",
    ")"
   ]
  },
  {
   "cell_type": "code",
   "execution_count": 10,
   "id": "a097c30a",
   "metadata": {},
   "outputs": [],
   "source": [
    "df=df.drop(\"Page\", axis=1)"
   ]
  },
  {
   "cell_type": "code",
   "execution_count": 11,
   "id": "6d493300",
   "metadata": {},
   "outputs": [],
   "source": [
    "df = df.rename(columns={\n",
    "    \"Titre\": \"titre\",\n",
    "    \"Prix\": \"prix\",\n",
    "    \"Disponibilité\": \"disponibilite\",\n",
    "    \"Description\": \"description\",\n",
    "    \"Note\": \"note\",\n",
    "    \"Image\": \"image\"\n",
    "})"
   ]
  },
  {
   "cell_type": "code",
   "execution_count": 12,
   "id": "c8b63d79",
   "metadata": {},
   "outputs": [],
   "source": [
    "df.to_csv(\"livres_bruts.csv\", index=False, encoding=\"utf-8\")"
   ]
  },
  {
   "cell_type": "code",
   "execution_count": 14,
   "id": "78e432cd",
   "metadata": {},
   "outputs": [
    {
     "name": "stdout",
     "output_type": "stream",
     "text": [
      "                  titre   prix  disponibilite  \\\n",
      "0  A Light in the Attic  51.77             22   \n",
      "1    Tipping the Velvet  53.74             20   \n",
      "\n",
      "                                         description  note  \\\n",
      "0  Its hard to imagine a world without A Light in...     3   \n",
      "1  Erotic and absorbingWritten with starling powe...     1   \n",
      "\n",
      "                                               image  \n",
      "0  https://books.toscrape.com/media/cache/fe/72/f...  \n",
      "1  https://books.toscrape.com/media/cache/08/e9/0...  \n"
     ]
    }
   ],
   "source": [
    "print(df.head(2))"
   ]
  },
  {
   "cell_type": "code",
   "execution_count": 156,
   "id": "5e26fcd5",
   "metadata": {},
   "outputs": [],
   "source": [
    "# ! pip install sqlalchemy psycopg2"
   ]
  },
  {
   "cell_type": "code",
   "execution_count": 21,
   "id": "9f44c6c0",
   "metadata": {},
   "outputs": [
    {
     "name": "stdout",
     "output_type": "stream",
     "text": [
      "\n",
      "Aperçu des données:\n"
     ]
    },
    {
     "data": {
      "text/html": [
       "<div>\n",
       "<style scoped>\n",
       "    .dataframe tbody tr th:only-of-type {\n",
       "        vertical-align: middle;\n",
       "    }\n",
       "\n",
       "    .dataframe tbody tr th {\n",
       "        vertical-align: top;\n",
       "    }\n",
       "\n",
       "    .dataframe thead th {\n",
       "        text-align: right;\n",
       "    }\n",
       "</style>\n",
       "<table border=\"1\" class=\"dataframe\">\n",
       "  <thead>\n",
       "    <tr style=\"text-align: right;\">\n",
       "      <th></th>\n",
       "      <th>id</th>\n",
       "      <th>titre</th>\n",
       "      <th>prix</th>\n",
       "      <th>disponibilite</th>\n",
       "      <th>description</th>\n",
       "      <th>note</th>\n",
       "      <th>image</th>\n",
       "    </tr>\n",
       "  </thead>\n",
       "  <tbody>\n",
       "    <tr>\n",
       "      <th>0</th>\n",
       "      <td>0</td>\n",
       "      <td>A Light in the Attic</td>\n",
       "      <td>51.77</td>\n",
       "      <td>22</td>\n",
       "      <td>Its hard to imagine a world without A Light in...</td>\n",
       "      <td>3</td>\n",
       "      <td>https://books.toscrape.com/media/cache/fe/72/f...</td>\n",
       "    </tr>\n",
       "    <tr>\n",
       "      <th>1</th>\n",
       "      <td>1</td>\n",
       "      <td>Tipping the Velvet</td>\n",
       "      <td>53.74</td>\n",
       "      <td>20</td>\n",
       "      <td>Erotic and absorbingWritten with starling powe...</td>\n",
       "      <td>1</td>\n",
       "      <td>https://books.toscrape.com/media/cache/08/e9/0...</td>\n",
       "    </tr>\n",
       "    <tr>\n",
       "      <th>2</th>\n",
       "      <td>2</td>\n",
       "      <td>Soumission</td>\n",
       "      <td>50.10</td>\n",
       "      <td>20</td>\n",
       "      <td>Dans une France assez proche de la nôtre un ho...</td>\n",
       "      <td>1</td>\n",
       "      <td>https://books.toscrape.com/media/cache/ee/cf/e...</td>\n",
       "    </tr>\n",
       "    <tr>\n",
       "      <th>3</th>\n",
       "      <td>3</td>\n",
       "      <td>Sharp Objects</td>\n",
       "      <td>47.82</td>\n",
       "      <td>20</td>\n",
       "      <td>WICKED above her hipbone GIRL across her heart...</td>\n",
       "      <td>4</td>\n",
       "      <td>https://books.toscrape.com/media/cache/c0/59/c...</td>\n",
       "    </tr>\n",
       "    <tr>\n",
       "      <th>4</th>\n",
       "      <td>4</td>\n",
       "      <td>Sapiens: A Brief History of Humankind</td>\n",
       "      <td>54.23</td>\n",
       "      <td>20</td>\n",
       "      <td>From a renowned historian comes a groundbreaki...</td>\n",
       "      <td>5</td>\n",
       "      <td>https://books.toscrape.com/media/cache/ce/5f/c...</td>\n",
       "    </tr>\n",
       "  </tbody>\n",
       "</table>\n",
       "</div>"
      ],
      "text/plain": [
       "   id                                  titre   prix  disponibilite  \\\n",
       "0   0                   A Light in the Attic  51.77             22   \n",
       "1   1                     Tipping the Velvet  53.74             20   \n",
       "2   2                             Soumission  50.10             20   \n",
       "3   3                          Sharp Objects  47.82             20   \n",
       "4   4  Sapiens: A Brief History of Humankind  54.23             20   \n",
       "\n",
       "                                         description  note  \\\n",
       "0  Its hard to imagine a world without A Light in...     3   \n",
       "1  Erotic and absorbingWritten with starling powe...     1   \n",
       "2  Dans une France assez proche de la nôtre un ho...     1   \n",
       "3  WICKED above her hipbone GIRL across her heart...     4   \n",
       "4  From a renowned historian comes a groundbreaki...     5   \n",
       "\n",
       "                                               image  \n",
       "0  https://books.toscrape.com/media/cache/fe/72/f...  \n",
       "1  https://books.toscrape.com/media/cache/08/e9/0...  \n",
       "2  https://books.toscrape.com/media/cache/ee/cf/e...  \n",
       "3  https://books.toscrape.com/media/cache/c0/59/c...  \n",
       "4  https://books.toscrape.com/media/cache/ce/5f/c...  "
      ]
     },
     "metadata": {},
     "output_type": "display_data"
    },
    {
     "name": "stdout",
     "output_type": "stream",
     "text": [
      "\n",
      "Nombre de livres: 523\n",
      "Colonnes: ['id', 'titre', 'prix', 'disponibilite', 'description', 'note', 'image']\n",
      "Types: id                 int64\n",
      "titre             object\n",
      "prix             float64\n",
      "disponibilite      int64\n",
      "description       object\n",
      "note               int64\n",
      "image             object\n",
      "dtype: object\n",
      "Erreur lors du chargement des données : (psycopg2.errors.UniqueViolation) ERREUR:  la valeur d'une clé dupliquée rompt la contrainte unique « livres_pkey »\n",
      "DETAIL:  La clé « (id)=(0) » existe déjà.\n",
      "\n",
      "[SQL: INSERT INTO livres (id, titre, prix, disponibilite, description, note, image) VALUES (%(id__0)s, %(titre__0)s, %(prix__0)s, %(disponibilite__0)s, %(description__0)s, %(note__0)s, %(image__0)s), (%(id__1)s, %(titre__1)s, %(prix__1)s, %(disponibilite__ ... 63292 characters truncated ... __522)s, %(prix__522)s, %(disponibilite__522)s, %(description__522)s, %(note__522)s, %(image__522)s)]\n",
      "[parameters: {'note__0': 3, 'prix__0': 51.77, 'description__0': 'Its hard to imagine a world without A Light in the Attic This nowclassic collection of poetry and drawings from Shel Silverstein celebrates its 20th  ... (689 characters truncated) ...  no safe place to rockAnd who put you up thereAnd your cradle tooBaby I think someone down heresGot it in for you Shel you never sounded so good more', 'image__0': 'https://books.toscrape.com/media/cache/fe/72/fe72f0532301ec28892ae79a629a293c.jpg', 'titre__0': 'A Light in the Attic', 'disponibilite__0': 22, 'id__0': 0, 'note__1': 1, 'prix__1': 53.74, 'description__1': 'Erotic and absorbingWritten with starling powerThe New York Times Book Review  Nan King an oyster girl is captivated by the music hall phenomenon Kit ... (686 characters truncated) ... s in an allsinging and dancing double act At the same time behind closed doors they admit their attraction to each other and their affair begins more', 'image__1': 'https://books.toscrape.com/media/cache/08/e9/08e94f3731d7d6b760dfbfbc02ca5c62.jpg', 'titre__1': 'Tipping the Velvet', 'disponibilite__1': 20, 'id__1': 1, 'note__2': 1, 'prix__2': 50.1, 'description__2': 'Dans une France assez proche de la nôtre un homme sengage dans la carrière universitaire Peu motivé par lenseignement il sattend à une vie ennuyeuse  ... (760 characters truncated) ... xister dans ce roman les intuitions poétiques les effets comiques une mélancolie fatalisteCe livre est une saisissante fable politique et morale more', 'image__2': 'https://books.toscrape.com/media/cache/ee/cf/eecfe998905e455df12064dba399c075.jpg', 'titre__2': 'Soumission', 'disponibilite__2': 20, 'id__2': 2, 'note__3': 4, 'prix__3': 47.82, 'description__3': 'WICKED above her hipbone GIRL across her heart Words are like a road map to reporter Camille Preakers troubled past Fresh from a brief stay at a psyc ... (1294 characters truncated) ... d to her years before if she wants to survive this homecomingWith its taut crafted writing Sharp Objects is addictive haunting and unforgettable more', 'image__3': 'https://books.toscrape.com/media/cache/c0/59/c05972805aa7201171b8fc71a5b00292.jpg', 'titre__3': 'Sharp Objects', 'disponibilite__3': 20, 'id__3': 3, 'note__4': 5, 'prix__4': 54.23, 'description__4': 'From a renowned historian comes a groundbreaking narrative of humanitys creation and evolutiona 1 international bestsellerthat explores the ways in w ... (1597 characters truncated) ...  work is sure to spark debate and is essential reading for aficionados of Jared Diamond James Gleick Matt Ridley Robert Wright and Sharon Moalem more', 'image__4': 'https://books.toscrape.com/media/cache/ce/5f/ce5f052c65cc963cf4422be096e915c9.jpg', 'titre__4': 'Sapiens: A Brief History of Humankind', 'disponibilite__4': 20, 'id__4': 4, 'note__5': 1, 'prix__5': 22.65, 'description__5': 'Patient TwentynineA monster roams the halls of Soothing Hills Asylum Three girls dead 29 is endowed with the curseor gift of perception She hears mes ... (649 characters truncated) ... t see the outside world But the monster has other plans The missing girls share one common threadeach was twentynines cell mate Will she be next more', 'image__5': 'https://books.toscrape.com/media/cache/6b/07/6b07b77236b7c80f42bd90bf325e69f6.jpg', 'titre__5': 'The Requiem Red', 'disponibilite__5': 19, 'id__5': 5, 'note__6': 4, 'prix__6': 33.34, 'description__6': 'Drawing on his extensive experience evaluating applicants for his marketing agency and featuring stories based on reallife situations sample cover le ... (1510 characters truncated) ... o the job search process and lets readers in on all of the dirty little secrets to landing their first jobor a new oneand finding career success more', 'image__6': 'https://books.toscrape.com/media/cache/e1/1b/e11bea016d0ae1d7e2dd46fb3cb870b7.jpg', 'titre__6': 'The Dirty Little Secrets of Getting Your Dream Job', 'disponibilite__6': 19, 'id__6': 6, 'note__7': 3 ... 3561 parameters truncated ... 'id__515': 515, 'note__516': 3, 'prix__516': 52.87, 'description__516': 'Nine weighty literary classics are transformed into delectable morsels with Scott Nashs playful versification and whimsical illustrationCant stomach  ... (913 characters truncated) ... delivered from dense duty to delightful ditty in Scott Nashs collection of hallowed classics featuring notes about the original texts at the end more', 'image__516': 'https://books.toscrape.com/media/cache/7b/b9/7bb9386b43f2aeaa6eaf042df1b4e96f.jpg', 'titre__516': 'Shrunken Treasures: Literary Classics, Short, Sweet, and Silly', 'disponibilite__516': 7, 'id__516': 516, 'note__517': 1, 'prix__517': 51.74, 'description__517': 'Personal finance author and lecturer Robert T Kiyosaki developed his unique economic perspective from two very different influences  his two fathers  ... (604 characters truncated) ... ienced by his poor dad pounded home the counterpoint communicated by his rich dad Taking that message to heart Kiyosaki was able to retire at 47 more', 'image__517': 'https://books.toscrape.com/media/cache/46/1c/461cf454be3aac0b4cd066247c892679.jpg', 'titre__517': 'Rich Dad, Poor Dad', 'disponibilite__517': 7, 'id__517': 517, 'note__518': 2, 'prix__518': 34.41, 'description__518': 'Raymie Clarke has come to realize that everything absolutely everything depends on her And she has a plan If Raymie can win the Little Miss Central F ... (836 characters truncated) ... and unanswerable questions draw the three girls into an unlikely friendship  and challenge each of them to come to the rescue in unexpected ways more', 'image__518': 'https://books.toscrape.com/media/cache/95/6b/956b5a8927463f4ea0774e2469e27ce5.jpg', 'titre__518': 'Raymie Nightingale', 'disponibilite__518': 7, 'id__518': 518, 'note__519': 1, 'prix__519': 32.38, 'description__519': 'Peter H Reynolds creator of The Dot has composed a pitchperfect tribute to the power of music and the bonds of familyWhen a young boy begins to play  ... (736 characters truncated) ...  grows up and stops playing altogether But when his father becomes ill and asks Raj to play for him will Raj remember how to play from the heart more', 'image__519': 'https://books.toscrape.com/media/cache/b6/ba/b6ba2393c312701f1471db91eb73284d.jpg', 'titre__519': 'Playing from the Heart', 'disponibilite__519': 7, 'id__519': 519, 'note__520': 4, 'prix__520': 50.35, 'description__520': 'It starts with a cry in the nightBecket walking her dog one winter evening fears its an abandoned baby left out in the cold But it is something elses ... (1152 characters truncated) ...  a secret crush on her best friends boyfriend Now she must find a way to survive and protect her loved onesbefore the darkness takes her as well more', 'image__520': 'https://books.toscrape.com/media/cache/cb/da/cbda49820de480220af3dff2d30c689a.jpg', 'titre__520': 'Nightstruck: A Novel', 'disponibilite__520': 7, 'id__520': 520, 'note__521': 5, 'prix__521': 11.38, 'description__521': 'When youre hungry for a filling meal its easy to go for the unhealthy stuff Many times even glutenfree and vegan cuisines can be loaded with sneaky f ... (750 characters truncated) ... nts you cant pronounce Whether its breakfast lunch snacks small plates entrees or beverages youll find a hearty healthy recipe for every craving more', 'image__521': 'https://books.toscrape.com/media/cache/5b/46/5b466903acc905deb89019c0407848c4.jpg', 'titre__521': 'Naturally Lean: 125 Nourishing Gluten-Free, Plant-Based Recipes--All Under 300 Calories', 'disponibilite__521': 7, 'id__521': 521, 'note__522': 3, 'prix__522': 43.58, 'description__522': 'The novel your book club must discussMeghann Foye was interviewed on The TODAY Show and The View regarding her new book MeternityA fresh contemporary ... (1450 characters truncated) ... ratedâby the ruse the guilt and the feelings brought on by a totally fictional bellytenantâabout happiness success family and the nature of love more', 'image__522': 'https://books.toscrape.com/media/cache/e3/33/e33394096291284ed1f80c5b13c4e1f3.jpg', 'titre__522': 'Meternity', 'disponibilite__522': 7, 'id__522': 522}]\n",
      "(Background on this error at: https://sqlalche.me/e/20/gkpj)\n"
     ]
    }
   ],
   "source": [
    "import pandas as pd\n",
    "from sqlalchemy import create_engine\n",
    "from sqlalchemy.types import Integer, String, Float, Text\n",
    "from dotenv import load_dotenv\n",
    "import os\n",
    "\n",
    "# ----- Charger les variables d'environnement -----\n",
    "load_dotenv()  # lit le fichier .env\n",
    "DB_URI = os.getenv(\"DATABASE_URL\")  # utilise DATABASE_URL du .env\n",
    "\n",
    "# 🔹 Chemin vers ton CSV\n",
    "CSV_FILE = \"livres_bruts.csv\"\n",
    "\n",
    "def load_books_to_db(csv_file: str, db_uri: str):\n",
    "    try:\n",
    "        # ----- Charger CSV -----\n",
    "        df = pd.read_csv(csv_file)\n",
    "\n",
    "        # ----- Ajouter un ID si nécessaire -----\n",
    "        if 'id' not in df.columns:\n",
    "            df.reset_index(inplace=True)\n",
    "            df.rename(columns={'index': 'id'}, inplace=True)\n",
    "\n",
    "        # ----- Vérification rapide -----\n",
    "        print(\"\\nAperçu des données:\")\n",
    "        display(df.head())\n",
    "        print(f\"\\nNombre de livres: {len(df)}\")\n",
    "        print(f\"Colonnes: {list(df.columns)}\")\n",
    "        print(f\"Types: {df.dtypes}\")\n",
    "\n",
    "        # ----- Connexion à PostgreSQL -----\n",
    "        engine = create_engine(db_uri)\n",
    "\n",
    "        # ----- Sauvegarde dans PostgreSQL -----\n",
    "        df.to_sql(\n",
    "            \"livres\",\n",
    "            engine,\n",
    "             if_exists=\"append\", # ou 'append' si tu veux ajouter\n",
    "            index=False,\n",
    "            chunksize=1000,\n",
    "            dtype={\n",
    "                \"id\": Integer,\n",
    "                \"titre\": String(500),\n",
    "                \"description\": Text,\n",
    "                \"prix\": Float,\n",
    "                \"image\": String(500),\n",
    "                \"disponibilite\": Integer,\n",
    "                \"note\": Integer\n",
    "            }\n",
    "        )\n",
    "        print(\" Données sauvegardées dans PostgreSQL avec succès !\")\n",
    "\n",
    "        # ----- Vérification -----\n",
    "        result = pd.read_sql_query(\"SELECT COUNT(*) as total FROM livres\", engine)\n",
    "        print(f\"Vérification: {result['total'].iloc[0]} livres dans la base\")\n",
    "    except Exception as e:\n",
    "        print(f\"Erreur lors du chargement des données : {e}\")\n",
    "# 🔹 Lancer le script\n",
    "if __name__ == \"__main__\":\n",
    "    load_books_to_db(CSV_FILE, DB_URI)\n"
   ]
  },
  {
   "cell_type": "code",
   "execution_count": null,
   "id": "0401c4b6",
   "metadata": {},
   "outputs": [
    {
     "name": "stdout",
     "output_type": "stream",
     "text": [
      "Requirement already satisfied: pydantic_settings in c:\\users\\rehmi salma\\anaconda3\\nouveau dossier\\lib\\site-packages (2.10.1)\n",
      "Requirement already satisfied: pydantic>=2.7.0 in c:\\users\\rehmi salma\\anaconda3\\nouveau dossier\\lib\\site-packages (from pydantic_settings) (2.11.7)\n",
      "Requirement already satisfied: python-dotenv>=0.21.0 in c:\\users\\rehmi salma\\anaconda3\\nouveau dossier\\lib\\site-packages (from pydantic_settings) (0.21.0)\n",
      "Requirement already satisfied: typing-inspection>=0.4.0 in c:\\users\\rehmi salma\\anaconda3\\nouveau dossier\\lib\\site-packages (from pydantic_settings) (0.4.1)\n",
      "Requirement already satisfied: annotated-types>=0.6.0 in c:\\users\\rehmi salma\\anaconda3\\nouveau dossier\\lib\\site-packages (from pydantic>=2.7.0->pydantic_settings) (0.7.0)\n",
      "Requirement already satisfied: pydantic-core==2.33.2 in c:\\users\\rehmi salma\\anaconda3\\nouveau dossier\\lib\\site-packages (from pydantic>=2.7.0->pydantic_settings) (2.33.2)\n",
      "Requirement already satisfied: typing-extensions>=4.12.2 in c:\\users\\rehmi salma\\anaconda3\\nouveau dossier\\lib\\site-packages (from pydantic>=2.7.0->pydantic_settings) (4.14.1)\n"
     ]
    }
   ],
   "source": [
    "# ! pip install pydantic_settings"
   ]
  },
  {
   "cell_type": "code",
   "execution_count": 22,
   "id": "7ef7905c",
   "metadata": {},
   "outputs": [
    {
     "name": "stdout",
     "output_type": "stream",
     "text": [
      "   id                                  titre  \\\n",
      "0   0                   A Light in the Attic   \n",
      "1   1                     Tipping the Velvet   \n",
      "2   2                             Soumission   \n",
      "3   3                          Sharp Objects   \n",
      "4   4  Sapiens: A Brief History of Humankind   \n",
      "\n",
      "                                         description  \n",
      "0  Its hard to imagine a world without A Light in...  \n",
      "1  Erotic and absorbingWritten with starling powe...  \n",
      "2  Dans une France assez proche de la nôtre un ho...  \n",
      "3  WICKED above her hipbone GIRL across her heart...  \n",
      "4  From a renowned historian comes a groundbreaki...  \n"
     ]
    }
   ],
   "source": [
    "# Charger uniquement les titres et descriptions\n",
    "db_uri = os.getenv(\"DATABASE_URL\")\n",
    "engine = create_engine(db_uri)\n",
    "df = pd.read_sql(\"SELECT id, titre, description FROM livres\", engine)\n",
    "print(df.head())\n"
   ]
  },
  {
   "cell_type": "code",
   "execution_count": 180,
   "id": "5bb0eb1a",
   "metadata": {},
   "outputs": [
    {
     "name": "stdout",
     "output_type": "stream",
     "text": [
      "^C\n"
     ]
    },
    {
     "name": "stdout",
     "output_type": "stream",
     "text": [
      "Requirement already satisfied: nltk in c:\\users\\rehmi salma\\anaconda3\\nouveau dossier\\lib\\site-packages (3.9.1)\n",
      "Requirement already satisfied: click in c:\\users\\rehmi salma\\anaconda3\\nouveau dossier\\lib\\site-packages (from nltk) (8.1.7)\n",
      "Requirement already satisfied: joblib in c:\\users\\rehmi salma\\anaconda3\\nouveau dossier\\lib\\site-packages (from nltk) (1.5.1)\n",
      "Requirement already satisfied: regex>=2021.8.3 in c:\\users\\rehmi salma\\anaconda3\\nouveau dossier\\lib\\site-packages (from nltk) (2025.7.34)\n",
      "Requirement already satisfied: tqdm in c:\\users\\rehmi salma\\anaconda3\\nouveau dossier\\lib\\site-packages (from nltk) (4.65.0)\n",
      "Requirement already satisfied: colorama in c:\\users\\rehmi salma\\anaconda3\\nouveau dossier\\lib\\site-packages (from click->nltk) (0.4.6)\n"
     ]
    }
   ],
   "source": [
    "! pip install nltk"
   ]
  },
  {
   "cell_type": "code",
   "execution_count": 24,
   "id": "fd656fda",
   "metadata": {},
   "outputs": [
    {
     "name": "stderr",
     "output_type": "stream",
     "text": [
      "[nltk_data] Downloading package punkt to C:\\Users\\Rehmi\n",
      "[nltk_data]     Salma\\AppData\\Roaming\\nltk_data...\n",
      "[nltk_data]   Package punkt is already up-to-date!\n",
      "[nltk_data] Downloading package stopwords to C:\\Users\\Rehmi\n",
      "[nltk_data]     Salma\\AppData\\Roaming\\nltk_data...\n",
      "[nltk_data]   Package stopwords is already up-to-date!\n"
     ]
    },
    {
     "data": {
      "text/plain": [
       "True"
      ]
     },
     "execution_count": 24,
     "metadata": {},
     "output_type": "execute_result"
    }
   ],
   "source": [
    "import nltk\n",
    "from nltk.tokenize import word_tokenize\n",
    "from nltk.corpus import stopwords\n",
    "from nltk.stem import PorterStemmer\n",
    "\n",
    "nltk.download('punkt')\n",
    "nltk.download('stopwords')"
   ]
  },
  {
   "cell_type": "code",
   "execution_count": 25,
   "id": "c20c254b",
   "metadata": {},
   "outputs": [],
   "source": [
    "stemmer = PorterStemmer()\n",
    "stop_words = set(stopwords.words('english'))"
   ]
  },
  {
   "cell_type": "code",
   "execution_count": 26,
   "id": "da270b64",
   "metadata": {},
   "outputs": [],
   "source": [
    "def preprocess_text(text):\n",
    "    text = str(text).lower()  # mettre en minuscules\n",
    "    words = word_tokenize(text)  # tokenisation\n",
    "    words = [word for word in words if word.isalpha() and word not in stop_words]  # filtrer\n",
    "    stemmed_words = [stemmer.stem(word) for word in words]  # stemming\n",
    "    return ' '.join(stemmed_words)  # reformer le texte\n"
   ]
  },
  {
   "cell_type": "code",
   "execution_count": 27,
   "id": "171cad9c",
   "metadata": {},
   "outputs": [
    {
     "name": "stdout",
     "output_type": "stream",
     "text": [
      "0    hard imagin world without light attic nowclass...\n",
      "1    erot absorbingwritten starl powerth new york t...\n",
      "2    dan une franc assez proch de la nôtre un homm ...\n",
      "3    wick hipbon girl across heart word like road m...\n",
      "4    renown historian come groundbreak narr human c...\n",
      "Name: description, dtype: object\n"
     ]
    }
   ],
   "source": [
    "df['description'] = df['description'].apply(preprocess_text)\n",
    "print(df[\"description\"].head())"
   ]
  },
  {
   "cell_type": "code",
   "execution_count": 28,
   "id": "b4cfe141",
   "metadata": {},
   "outputs": [],
   "source": [
    "from sklearn.feature_extraction.text import TfidfVectorizer\n",
    "# On fixe le nombre maximum de mots à garder dans la matrice TF-IDF\n",
    "tfidf = TfidfVectorizer(max_features=5000)  # par exemple 5000 mots les plus fréquents\n",
    "X_tfidf = tfidf.fit_transform(df['description'])"
   ]
  },
  {
   "cell_type": "code",
   "execution_count": 29,
   "id": "76a0505e",
   "metadata": {},
   "outputs": [
    {
     "name": "stdout",
     "output_type": "stream",
     "text": [
      "Dimensions :  (523, 5000)\n",
      "Quelques mots :  ['aaron' 'abandon' 'abbi' 'abbot' 'abduct' 'abil' 'abl' 'abound' 'abra'\n",
      " 'abraham']\n"
     ]
    }
   ],
   "source": [
    "print(\"Dimensions : \", X_tfidf.shape)  # (n_messages, n_mots)\n",
    "print(\"Quelques mots : \", tfidf.get_feature_names_out()[:10])  # Voir les 10 premiers mots"
   ]
  },
  {
   "cell_type": "code",
   "execution_count": 30,
   "id": "f94191cd",
   "metadata": {},
   "outputs": [
    {
     "name": "stdout",
     "output_type": "stream",
     "text": [
      "   aaron  abandon  abbi  abbot  abduct     abil  abl  abound  abra  abraham  \\\n",
      "0    0.0      0.0   0.0    0.0     0.0  0.00000  0.0     0.0   0.0      0.0   \n",
      "1    0.0      0.0   0.0    0.0     0.0  0.00000  0.0     0.0   0.0      0.0   \n",
      "2    0.0      0.0   0.0    0.0     0.0  0.00000  0.0     0.0   0.0      0.0   \n",
      "3    0.0      0.0   0.0    0.0     0.0  0.00000  0.0     0.0   0.0      0.0   \n",
      "4    0.0      0.0   0.0    0.0     0.0  0.06711  0.0     0.0   0.0      0.0   \n",
      "\n",
      "   ...  zeuss  zimbabw  zimbardo  zinger  zoe  zombi  zoo  zoologist  zorin  \\\n",
      "0  ...    0.0      0.0       0.0     0.0  0.0    0.0  0.0        0.0    0.0   \n",
      "1  ...    0.0      0.0       0.0     0.0  0.0    0.0  0.0        0.0    0.0   \n",
      "2  ...    0.0      0.0       0.0     0.0  0.0    0.0  0.0        0.0    0.0   \n",
      "3  ...    0.0      0.0       0.0     0.0  0.0    0.0  0.0        0.0    0.0   \n",
      "4  ...    0.0      0.0       0.0     0.0  0.0    0.0  0.0        0.0    0.0   \n",
      "\n",
      "   zuko  \n",
      "0   0.0  \n",
      "1   0.0  \n",
      "2   0.0  \n",
      "3   0.0  \n",
      "4   0.0  \n",
      "\n",
      "[5 rows x 5000 columns]\n"
     ]
    }
   ],
   "source": [
    "# Transformer la matrice en DataFrame pour visualiser\n",
    "tfidf_df = pd.DataFrame(X_tfidf.toarray(), columns=tfidf.get_feature_names_out())\n",
    "print(tfidf_df.head())"
   ]
  },
  {
   "cell_type": "code",
   "execution_count": 31,
   "id": "76c1a925",
   "metadata": {},
   "outputs": [
    {
     "name": "stdout",
     "output_type": "stream",
     "text": [
      "(523, 523)\n"
     ]
    }
   ],
   "source": [
    "from sklearn.metrics.pairwise import cosine_similarity\n",
    "\n",
    "# Calcul de la similarité cosinus\n",
    "cosine_sim = cosine_similarity(X_tfidf, X_tfidf)\n",
    "\n",
    "# cosine_sim est une matrice (n_books x n_books) contenant les scores de similarité\n",
    "print(cosine_sim.shape)\n"
   ]
  },
  {
   "cell_type": "code",
   "execution_count": 32,
   "id": "06fd68cc",
   "metadata": {},
   "outputs": [
    {
     "name": "stdout",
     "output_type": "stream",
     "text": [
      "Livre de référence : A Light in the Attic\n",
      "\n",
      "Livres similaires :\n",
      "- salt. (score: 0.10)\n",
      "- Whole Lotta Creativity Going On: 60 Fun and Unusual Exercises to Awaken and Strengthen Your Creativity (score: 0.10)\n",
      "- The Artist's Way: A Spiritual Path to Higher Creativity (score: 0.09)\n",
      "- Steal Like an Artist: 10 Things Nobody Told You About Being Creative (score: 0.08)\n",
      "- You can't bury them all: Poems (score: 0.08)\n"
     ]
    }
   ],
   "source": [
    "book_index = 0  # par exemple, le premier livre\n",
    "similar_books = list(enumerate(cosine_sim[book_index]))\n",
    "similar_books = sorted(similar_books, key=lambda x: x[1], reverse=True)\n",
    "\n",
    "print(\"Livre de référence :\", df.iloc[book_index][\"titre\"])\n",
    "print(\"\\nLivres similaires :\")\n",
    "for idx, score in similar_books[1:6]:  # les 5 plus similaires\n",
    "    print(f\"- {df.iloc[idx]['titre']} (score: {score:.2f})\")\n"
   ]
  },
  {
   "cell_type": "code",
   "execution_count": 33,
   "id": "e0d42828",
   "metadata": {},
   "outputs": [
    {
     "name": "stdout",
     "output_type": "stream",
     "text": [
      "✅ Modèles enregistrés !\n"
     ]
    }
   ],
   "source": [
    "import joblib\n",
    "\n",
    "# Sauvegarder le TF-IDF et la matrice\n",
    "joblib.dump(tfidf, \"tfidf_vectorizer.pkl\")\n",
    "joblib.dump(X_tfidf, \"livre_vectors.pkl\")\n",
    "joblib.dump(cosine_sim, \"cosine_sim_matrix.pkl\")\n",
    "\n",
    "print(\"✅ Modèles enregistrés !\")"
   ]
  },
  {
   "cell_type": "code",
   "execution_count": null,
   "id": "caff2d45",
   "metadata": {},
   "outputs": [],
   "source": []
  },
  {
   "cell_type": "code",
   "execution_count": null,
   "id": "7910be8a",
   "metadata": {},
   "outputs": [],
   "source": []
  }
 ],
 "metadata": {
  "kernelspec": {
   "display_name": "base",
   "language": "python",
   "name": "python3"
  },
  "language_info": {
   "codemirror_mode": {
    "name": "ipython",
    "version": 3
   },
   "file_extension": ".py",
   "mimetype": "text/x-python",
   "name": "python",
   "nbconvert_exporter": "python",
   "pygments_lexer": "ipython3",
   "version": "3.11.7"
  }
 },
 "nbformat": 4,
 "nbformat_minor": 5
}
